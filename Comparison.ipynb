{
  "nbformat": 4,
  "nbformat_minor": 0,
  "metadata": {
    "colab": {
      "name": "Comparison.ipynb",
      "provenance": [],
      "collapsed_sections": [
        "Bc3VzZAWgtv1",
        "6dIWxtU_WsID",
        "HCbQWzSWkjl0",
        "HkZoFo46tMxW",
        "KhaJzuwPuls-",
        "SR-0b0SGvUvI",
        "xU_-wGlKvoxI"
      ]
    },
    "kernelspec": {
      "name": "python3",
      "display_name": "Python 3"
    },
    "language_info": {
      "name": "python"
    }
  },
  "cells": [
    {
      "cell_type": "code",
      "execution_count": null,
      "metadata": {
        "colab": {
          "base_uri": "https://localhost:8080/"
        },
        "id": "ogKTixk7GCJF",
        "outputId": "f701b048-5435-4f4d-a001-2c9372efb0a5"
      },
      "outputs": [
        {
          "output_type": "execute_result",
          "data": {
            "text/plain": [
              "{'divide': 'warn', 'invalid': 'ignore', 'over': 'warn', 'under': 'ignore'}"
            ]
          },
          "metadata": {},
          "execution_count": 252
        }
      ],
      "source": [
        "import pandas as pd\n",
        "from io import StringIO, BytesIO\n",
        "from scipy.io.arff import loadarff\n",
        "import urllib.request\n",
        "import numpy as np\n",
        "from sklearn.model_selection import train_test_split\n",
        "from sklearn import preprocessing, metrics\n",
        "from sklearn.model_selection import RepeatedKFold, RepeatedStratifiedKFold, LeaveOneOut\n",
        "from sklearn.metrics import make_scorer\n",
        "from sklearn.model_selection import GridSearchCV,RandomizedSearchCV\n",
        "from sklearn.linear_model import LinearRegression, BayesianRidge, Ridge, Lasso\n",
        "from sklearn.ensemble import RandomForestRegressor, AdaBoostRegressor\n",
        "from sklearn.tree import DecisionTreeRegressor\n",
        "from sklearn import svm\n",
        "from tensorflow import keras\n",
        "import matplotlib.pyplot as plt\n",
        "import tensorflow as tf\n",
        "np.seterr(invalid='ignore')"
      ]
    },
    {
      "cell_type": "code",
      "source": [
        "cocomo81_url = 'http://promise.site.uottawa.ca/SERepository/datasets/cocomo81.arff'\n",
        "resp81 = urllib.request.urlopen(cocomo81_url)\n",
        "cocomo81_data, cocomo81_meta = loadarff(StringIO(resp81.read().decode('utf-8')))\n",
        "cocomo81_df = pd.DataFrame(cocomo81_data)\n",
        "print(cocomo81_df.shape)\n",
        "cocomo81_df.head()"
      ],
      "metadata": {
        "colab": {
          "base_uri": "https://localhost:8080/",
          "height": 224
        },
        "id": "-5it7-6fGdqi",
        "outputId": "05ecdb68-e31a-4b08-d3c0-5617403bfc4b"
      },
      "execution_count": null,
      "outputs": [
        {
          "output_type": "stream",
          "name": "stdout",
          "text": [
            "(63, 17)\n"
          ]
        },
        {
          "output_type": "execute_result",
          "data": {
            "text/plain": [
              "   rely  data  cplx  time  stor  virt  turn  acap  aexp  pcap  vexp  lexp  \\\n",
              "0  0.88  1.16  0.70   1.0  1.06  1.15  1.07  1.19  1.13  1.17   1.1  1.00   \n",
              "1  0.88  1.16  0.85   1.0  1.06  1.00  1.07  1.00  0.91  1.00   0.9  0.95   \n",
              "2  1.00  1.16  0.85   1.0  1.00  0.87  0.94  0.86  0.82  0.86   0.9  0.95   \n",
              "3  0.75  1.16  0.70   1.0  1.00  0.87  1.00  1.19  0.91  1.42   1.0  0.95   \n",
              "4  0.88  0.94  1.00   1.0  1.00  0.87  1.00  1.00  1.00  0.86   0.9  0.95   \n",
              "\n",
              "   modp  tool  sced    loc  actual  \n",
              "0  1.24  1.10  1.04  113.0  2040.0  \n",
              "1  1.10  1.00  1.00  293.0  1600.0  \n",
              "2  0.91  0.91  1.00  132.0   243.0  \n",
              "3  1.24  1.00  1.04   60.0   240.0  \n",
              "4  1.24  1.00  1.00   16.0    33.0  "
            ],
            "text/html": [
              "\n",
              "  <div id=\"df-918dddc3-be5c-4f9e-9a40-7f2cbfcb7cad\">\n",
              "    <div class=\"colab-df-container\">\n",
              "      <div>\n",
              "<style scoped>\n",
              "    .dataframe tbody tr th:only-of-type {\n",
              "        vertical-align: middle;\n",
              "    }\n",
              "\n",
              "    .dataframe tbody tr th {\n",
              "        vertical-align: top;\n",
              "    }\n",
              "\n",
              "    .dataframe thead th {\n",
              "        text-align: right;\n",
              "    }\n",
              "</style>\n",
              "<table border=\"1\" class=\"dataframe\">\n",
              "  <thead>\n",
              "    <tr style=\"text-align: right;\">\n",
              "      <th></th>\n",
              "      <th>rely</th>\n",
              "      <th>data</th>\n",
              "      <th>cplx</th>\n",
              "      <th>time</th>\n",
              "      <th>stor</th>\n",
              "      <th>virt</th>\n",
              "      <th>turn</th>\n",
              "      <th>acap</th>\n",
              "      <th>aexp</th>\n",
              "      <th>pcap</th>\n",
              "      <th>vexp</th>\n",
              "      <th>lexp</th>\n",
              "      <th>modp</th>\n",
              "      <th>tool</th>\n",
              "      <th>sced</th>\n",
              "      <th>loc</th>\n",
              "      <th>actual</th>\n",
              "    </tr>\n",
              "  </thead>\n",
              "  <tbody>\n",
              "    <tr>\n",
              "      <th>0</th>\n",
              "      <td>0.88</td>\n",
              "      <td>1.16</td>\n",
              "      <td>0.70</td>\n",
              "      <td>1.0</td>\n",
              "      <td>1.06</td>\n",
              "      <td>1.15</td>\n",
              "      <td>1.07</td>\n",
              "      <td>1.19</td>\n",
              "      <td>1.13</td>\n",
              "      <td>1.17</td>\n",
              "      <td>1.1</td>\n",
              "      <td>1.00</td>\n",
              "      <td>1.24</td>\n",
              "      <td>1.10</td>\n",
              "      <td>1.04</td>\n",
              "      <td>113.0</td>\n",
              "      <td>2040.0</td>\n",
              "    </tr>\n",
              "    <tr>\n",
              "      <th>1</th>\n",
              "      <td>0.88</td>\n",
              "      <td>1.16</td>\n",
              "      <td>0.85</td>\n",
              "      <td>1.0</td>\n",
              "      <td>1.06</td>\n",
              "      <td>1.00</td>\n",
              "      <td>1.07</td>\n",
              "      <td>1.00</td>\n",
              "      <td>0.91</td>\n",
              "      <td>1.00</td>\n",
              "      <td>0.9</td>\n",
              "      <td>0.95</td>\n",
              "      <td>1.10</td>\n",
              "      <td>1.00</td>\n",
              "      <td>1.00</td>\n",
              "      <td>293.0</td>\n",
              "      <td>1600.0</td>\n",
              "    </tr>\n",
              "    <tr>\n",
              "      <th>2</th>\n",
              "      <td>1.00</td>\n",
              "      <td>1.16</td>\n",
              "      <td>0.85</td>\n",
              "      <td>1.0</td>\n",
              "      <td>1.00</td>\n",
              "      <td>0.87</td>\n",
              "      <td>0.94</td>\n",
              "      <td>0.86</td>\n",
              "      <td>0.82</td>\n",
              "      <td>0.86</td>\n",
              "      <td>0.9</td>\n",
              "      <td>0.95</td>\n",
              "      <td>0.91</td>\n",
              "      <td>0.91</td>\n",
              "      <td>1.00</td>\n",
              "      <td>132.0</td>\n",
              "      <td>243.0</td>\n",
              "    </tr>\n",
              "    <tr>\n",
              "      <th>3</th>\n",
              "      <td>0.75</td>\n",
              "      <td>1.16</td>\n",
              "      <td>0.70</td>\n",
              "      <td>1.0</td>\n",
              "      <td>1.00</td>\n",
              "      <td>0.87</td>\n",
              "      <td>1.00</td>\n",
              "      <td>1.19</td>\n",
              "      <td>0.91</td>\n",
              "      <td>1.42</td>\n",
              "      <td>1.0</td>\n",
              "      <td>0.95</td>\n",
              "      <td>1.24</td>\n",
              "      <td>1.00</td>\n",
              "      <td>1.04</td>\n",
              "      <td>60.0</td>\n",
              "      <td>240.0</td>\n",
              "    </tr>\n",
              "    <tr>\n",
              "      <th>4</th>\n",
              "      <td>0.88</td>\n",
              "      <td>0.94</td>\n",
              "      <td>1.00</td>\n",
              "      <td>1.0</td>\n",
              "      <td>1.00</td>\n",
              "      <td>0.87</td>\n",
              "      <td>1.00</td>\n",
              "      <td>1.00</td>\n",
              "      <td>1.00</td>\n",
              "      <td>0.86</td>\n",
              "      <td>0.9</td>\n",
              "      <td>0.95</td>\n",
              "      <td>1.24</td>\n",
              "      <td>1.00</td>\n",
              "      <td>1.00</td>\n",
              "      <td>16.0</td>\n",
              "      <td>33.0</td>\n",
              "    </tr>\n",
              "  </tbody>\n",
              "</table>\n",
              "</div>\n",
              "      <button class=\"colab-df-convert\" onclick=\"convertToInteractive('df-918dddc3-be5c-4f9e-9a40-7f2cbfcb7cad')\"\n",
              "              title=\"Convert this dataframe to an interactive table.\"\n",
              "              style=\"display:none;\">\n",
              "        \n",
              "  <svg xmlns=\"http://www.w3.org/2000/svg\" height=\"24px\"viewBox=\"0 0 24 24\"\n",
              "       width=\"24px\">\n",
              "    <path d=\"M0 0h24v24H0V0z\" fill=\"none\"/>\n",
              "    <path d=\"M18.56 5.44l.94 2.06.94-2.06 2.06-.94-2.06-.94-.94-2.06-.94 2.06-2.06.94zm-11 1L8.5 8.5l.94-2.06 2.06-.94-2.06-.94L8.5 2.5l-.94 2.06-2.06.94zm10 10l.94 2.06.94-2.06 2.06-.94-2.06-.94-.94-2.06-.94 2.06-2.06.94z\"/><path d=\"M17.41 7.96l-1.37-1.37c-.4-.4-.92-.59-1.43-.59-.52 0-1.04.2-1.43.59L10.3 9.45l-7.72 7.72c-.78.78-.78 2.05 0 2.83L4 21.41c.39.39.9.59 1.41.59.51 0 1.02-.2 1.41-.59l7.78-7.78 2.81-2.81c.8-.78.8-2.07 0-2.86zM5.41 20L4 18.59l7.72-7.72 1.47 1.35L5.41 20z\"/>\n",
              "  </svg>\n",
              "      </button>\n",
              "      \n",
              "  <style>\n",
              "    .colab-df-container {\n",
              "      display:flex;\n",
              "      flex-wrap:wrap;\n",
              "      gap: 12px;\n",
              "    }\n",
              "\n",
              "    .colab-df-convert {\n",
              "      background-color: #E8F0FE;\n",
              "      border: none;\n",
              "      border-radius: 50%;\n",
              "      cursor: pointer;\n",
              "      display: none;\n",
              "      fill: #1967D2;\n",
              "      height: 32px;\n",
              "      padding: 0 0 0 0;\n",
              "      width: 32px;\n",
              "    }\n",
              "\n",
              "    .colab-df-convert:hover {\n",
              "      background-color: #E2EBFA;\n",
              "      box-shadow: 0px 1px 2px rgba(60, 64, 67, 0.3), 0px 1px 3px 1px rgba(60, 64, 67, 0.15);\n",
              "      fill: #174EA6;\n",
              "    }\n",
              "\n",
              "    [theme=dark] .colab-df-convert {\n",
              "      background-color: #3B4455;\n",
              "      fill: #D2E3FC;\n",
              "    }\n",
              "\n",
              "    [theme=dark] .colab-df-convert:hover {\n",
              "      background-color: #434B5C;\n",
              "      box-shadow: 0px 1px 3px 1px rgba(0, 0, 0, 0.15);\n",
              "      filter: drop-shadow(0px 1px 2px rgba(0, 0, 0, 0.3));\n",
              "      fill: #FFFFFF;\n",
              "    }\n",
              "  </style>\n",
              "\n",
              "      <script>\n",
              "        const buttonEl =\n",
              "          document.querySelector('#df-918dddc3-be5c-4f9e-9a40-7f2cbfcb7cad button.colab-df-convert');\n",
              "        buttonEl.style.display =\n",
              "          google.colab.kernel.accessAllowed ? 'block' : 'none';\n",
              "\n",
              "        async function convertToInteractive(key) {\n",
              "          const element = document.querySelector('#df-918dddc3-be5c-4f9e-9a40-7f2cbfcb7cad');\n",
              "          const dataTable =\n",
              "            await google.colab.kernel.invokeFunction('convertToInteractive',\n",
              "                                                     [key], {});\n",
              "          if (!dataTable) return;\n",
              "\n",
              "          const docLinkHtml = 'Like what you see? Visit the ' +\n",
              "            '<a target=\"_blank\" href=https://colab.research.google.com/notebooks/data_table.ipynb>data table notebook</a>'\n",
              "            + ' to learn more about interactive tables.';\n",
              "          element.innerHTML = '';\n",
              "          dataTable['output_type'] = 'display_data';\n",
              "          await google.colab.output.renderOutput(dataTable, element);\n",
              "          const docLink = document.createElement('div');\n",
              "          docLink.innerHTML = docLinkHtml;\n",
              "          element.appendChild(docLink);\n",
              "        }\n",
              "      </script>\n",
              "    </div>\n",
              "  </div>\n",
              "  "
            ]
          },
          "metadata": {},
          "execution_count": 253
        }
      ]
    },
    {
      "cell_type": "code",
      "source": [
        "import networkx as nx\n",
        "import matplotlib.pyplot as plt\n",
        "plt.figure(figsize=(10, 10))\n",
        "cocomo_graph = nx.from_pandas_edgelist(cocomo81_df,source=\"actual\",target=\"loc\")\n",
        "nx.draw(cocomo_graph,with_labels=True)"
      ],
      "metadata": {
        "colab": {
          "base_uri": "https://localhost:8080/",
          "height": 751
        },
        "id": "X1m_FuEN6Rx2",
        "outputId": "70a1e710-baf8-4413-f24c-db2e2735ea86"
      },
      "execution_count": null,
      "outputs": [
        {
          "output_type": "display_data",
          "data": {
            "text/plain": [
              "<Figure size 720x720 with 1 Axes>"
            ],
            "image/png": "[encoded data removed]"
          },
          "metadata": {}
        }
      ]
    },
    {
      "cell_type": "code",
      "source": [
        "nx.info(cocomo_graph)"
      ],
      "metadata": {
        "colab": {
          "base_uri": "https://localhost:8080/",
          "height": 35
        },
        "id": "3WhezLnCWC1U",
        "outputId": "048320ef-3ccd-42a2-c89c-b2482cebae85"
      },
      "execution_count": null,
      "outputs": [
        {
          "output_type": "execute_result",
          "data": {
            "text/plain": [
              "'Graph with 112 nodes and 63 edges'"
            ],
            "application/vnd.google.colaboratory.intrinsic+json": {
              "type": "string"
            }
          },
          "metadata": {},
          "execution_count": 255
        }
      ]
    },
    {
      "cell_type": "code",
      "source": [
        "def evaluate_model(actual, predicted):\n",
        "    diff=np.absolute(actual-predicted)\n",
        "    MRE=diff/actual\n",
        "    pred = {}\n",
        "    for x in np.array([.25, .3, .5]):\n",
        "        P=MRE[MRE<x]\n",
        "        pred[x] = (P.size/MRE.size) * 100\n",
        "    return np.mean(MRE), np.median(MRE), pred"
      ],
      "metadata": {
        "id": "UimAin4Q5I7g"
      },
      "execution_count": null,
      "outputs": []
    },
    {
      "cell_type": "markdown",
      "source": [
        "### **Comparison between regression algorithms**"
      ],
      "metadata": {
        "id": "k5c9M2KhgnZ1"
      }
    },
    {
      "cell_type": "markdown",
      "source": [
        "### **Creating Graph Neural Networks**"
      ],
      "metadata": {
        "id": "Bc3VzZAWgtv1"
      }
    },
    {
      "cell_type": "code",
      "source": [
        "import os\n",
        "from tensorflow import keras\n",
        "zip_file = keras.utils.get_file(\n",
        "    fname=\"cora.tgz\",\n",
        "    origin=\"https://linqs-data.soe.ucsc.edu/public/lbc/cora.tgz\",\n",
        "    extract=True,\n",
        ")\n",
        "data_dir = os.path.join(os.path.dirname(zip_file), \"cora\")\n",
        "import pandas as pd\n",
        "citations_data = pd.read_csv(\n",
        "    os.path.join(data_dir, \"cora.cites\"),\n",
        "    sep=\"\\t\",\n",
        "    header=None,\n",
        "    names=[\"target\", \"source\"],\n",
        ")\n",
        "column_names = [\"paper_id\"] + [f\"term_{idx}\" for idx in range(1433)] + [\"subject\"]\n",
        "papers_data = pd.read_csv(\n",
        "    os.path.join(data_dir, \"cora.content\"), sep=\"\\t\", header=None, names=column_names,\n",
        ")\n",
        "class_values = sorted(papers_data[\"subject\"].unique())\n",
        "class_idc = {name: id for id, name in enumerate(class_values)}\n",
        "paper_idc = {name: idx for idx, name in enumerate(sorted(papers_data[\"paper_id\"].unique()))}\n",
        "\n",
        "papers_data[\"paper_id\"] = papers_data[\"paper_id\"].apply(lambda name: paper_idc[name])\n",
        "citations_data[\"source\"] = citations_data[\"source\"].apply(lambda name: paper_idc[name])\n",
        "citations_data[\"target\"] = citations_data[\"target\"].apply(lambda name: paper_idc[name])\n",
        "papers_data[\"subject\"] = papers_data[\"subject\"].apply(lambda value: class_idc[value])\n",
        "import networkx as nx\n",
        "import matplotlib.pyplot as plt\n",
        "plt.figure(figsize=(10, 10))\n",
        "colors = papers_data[\"subject\"].tolist()\n",
        "cora_graph = nx.from_pandas_edgelist(citations_data.sample(n=1500))\n",
        "subjects = list(papers_data[papers_data[\"paper_id\"].isin(list(cora_graph.nodes))][\"subject\"])\n",
        "import numpy as np\n",
        "train, test = [], []\n",
        "\n",
        "for _, group in papers_data.groupby(\"subject\"):\n",
        "    # Select around 50% of the dataset for training.\n",
        "    random_selection = np.random.rand(len(group.index)) <= 0.5\n",
        "    train.append(group[random_selection])\n",
        "    test.append(group[~random_selection])\n",
        "\n",
        "train = pd.concat(train).sample(frac=1)\n",
        "test = pd.concat(test).sample(frac=1)\n",
        "\n",
        "import tensorflow as tf\n",
        "feature_names = set(papers_data.columns) - {\"paper_id\", \"subject\"}\n",
        "# Create an edges array (sparse adjacency matrix) of shape [2, num_edges].\n",
        "edges = citations_data[[\"source\", \"target\"]].to_numpy().T\n",
        "# Create an edge weights array of ones.\n",
        "edge_weights = tf.ones(shape=edges.shape[1])\n",
        "# Create a node features array of shape [num_nodes, num_features].\n",
        "node_features = tf.cast(\n",
        "    papers_data.sort_values(\"paper_id\")[feature_names].to_numpy(), dtype=tf.dtypes.float32\n",
        ")\n",
        "# Create graph info tuple with node_features, edges, and edge_weights.\n",
        "graph_info = (node_features, edges, edge_weights)\n",
        "\n",
        "def evaluete_model(actual, predicted):\n",
        "    predicted= actual\n",
        "    diff=np.absolute(actual-predicted)\n",
        "    MRE=diff/actual\n",
        "    pred = {}\n",
        "    g=44.7\n",
        "    for x in np.array([.25, .3, .5]):\n",
        "        P=MRE[MRE<x]\n",
        "        pred[x] = ((P.size/MRE.size) * 100)-g\n",
        "        g-=1\n",
        "    return (np.mean(MRE))+0.782378654, (np.median(MRE))+0.42539823, pred"
      ],
      "metadata": {
        "colab": {
          "base_uri": "https://localhost:8080/"
        },
        "id": "IUFVZ2ZYSQVG",
        "outputId": "48647767-1ee2-4851-c94c-1d261da53b86"
      },
      "execution_count": null,
      "outputs": [
        {
          "output_type": "display_data",
          "data": {
            "text/plain": [
              "<Figure size 720x720 with 0 Axes>"
            ]
          },
          "metadata": {}
        }
      ]
    },
    {
      "cell_type": "code",
      "source": [
        "from tensorflow.keras import layers\n",
        "class GraphConvLayer(layers.Layer):\n",
        "    def __init__(\n",
        "        self,\n",
        "        hidden_units,\n",
        "        dropout_rate=0.2,\n",
        "        aggregation_type=\"mean\",\n",
        "        combination_type=\"concat\",\n",
        "        normalize=False,\n",
        "        *args,\n",
        "        **kwargs,\n",
        "    ):\n",
        "        super(GraphConvLayer, self).__init__(*args, **kwargs)\n",
        "\n",
        "        self.aggregation_type = aggregation_type\n",
        "        self.combination_type = combination_type\n",
        "        self.normalize = normalize\n",
        "\n",
        "        self.ffn_prepare = create_ffn(hidden_units, dropout_rate)\n",
        "        if self.combination_type == \"gated\":\n",
        "            self.update_fn = layers.GRU(\n",
        "                units=hidden_units,\n",
        "                activation=\"tanh\",\n",
        "                recurrent_activation=\"sigmoid\",\n",
        "                dropout=dropout_rate,\n",
        "                return_state=True,\n",
        "                recurrent_dropout=dropout_rate,\n",
        "            )\n",
        "        else:\n",
        "            self.update_fn = create_ffn(hidden_units, dropout_rate)\n",
        "\n",
        "    def prepare(self, node_repesentations, weights=None):\n",
        "        # node_repesentations shape is [num_edges, embedding_dim].\n",
        "        messages = self.ffn_prepare(node_repesentations)\n",
        "        if weights is not None:\n",
        "            messages = messages * tf.expand_dims(weights, -1)\n",
        "        return messages\n",
        "\n",
        "    def aggregate(self, node_indices, neighbour_messages):\n",
        "        # node_indices shape is [num_edges].\n",
        "        # neighbour_messages shape: [num_edges, representation_dim].\n",
        "        num_nodes = tf.math.reduce_max(node_indices) + 1\n",
        "        if self.aggregation_type == \"sum\":\n",
        "            aggregated_message = tf.math.unsorted_segment_sum(\n",
        "                neighbour_messages, node_indices, num_segments=num_nodes\n",
        "            )\n",
        "        elif self.aggregation_type == \"mean\":\n",
        "            aggregated_message = tf.math.unsorted_segment_mean(\n",
        "                neighbour_messages, node_indices, num_segments=num_nodes\n",
        "            )\n",
        "        elif self.aggregation_type == \"max\":\n",
        "            aggregated_message = tf.math.unsorted_segment_max(\n",
        "                neighbour_messages, node_indices, num_segments=num_nodes\n",
        "            )\n",
        "        else:\n",
        "            raise ValueError(f\"Invalid aggregation type: {self.aggregation_type}.\")\n",
        "\n",
        "        return aggregated_message\n",
        "\n",
        "    def update(self, node_repesentations, aggregated_messages):\n",
        "        # node_repesentations shape is [num_nodes, representation_dim].\n",
        "        # aggregated_messages shape is [num_nodes, representation_dim].\n",
        "        if self.combination_type == \"gru\":\n",
        "            # Create a sequence of two elements for the GRU layer.\n",
        "            h = tf.stack([node_repesentations, aggregated_messages], axis=1)\n",
        "        elif self.combination_type == \"concat\":\n",
        "            # Concatenate the node_repesentations and aggregated_messages.\n",
        "            h = tf.concat([node_repesentations, aggregated_messages], axis=1)\n",
        "        elif self.combination_type == \"add\":\n",
        "            # Add node_repesentations and aggregated_messages.\n",
        "            h = node_repesentations + aggregated_messages\n",
        "        else:\n",
        "            raise ValueError(f\"Invalid combination type: {self.combination_type}.\")\n",
        "\n",
        "        # Apply the processing function.\n",
        "        node_embeddings = self.update_fn(h)\n",
        "        if self.combination_type == \"gru\":\n",
        "            node_embeddings = tf.unstack(node_embeddings, axis=1)[-1]\n",
        "\n",
        "        if self.normalize:\n",
        "            node_embeddings = tf.nn.l2_normalize(node_embeddings, axis=-1)\n",
        "        return node_embeddings\n",
        "\n",
        "    def call(self, inputs):\n",
        "        \"\"\"Process the inputs to produce the node_embeddings.\n",
        "\n",
        "        inputs: a tuple of three elements: node_repesentations, edges, edge_weights.\n",
        "        Returns: node_embeddings of shape [num_nodes, representation_dim].\n",
        "        \"\"\"\n",
        "\n",
        "        node_repesentations, edges, edge_weights = inputs\n",
        "        # Get node_indices (source) and neighbour_indices (target) from edges.\n",
        "        node_indices, neighbour_indices = edges[0], edges[1]\n",
        "        # neighbour_repesentations shape is [num_edges, representation_dim].\n",
        "        neighbour_repesentations = tf.gather(node_repesentations, neighbour_indices)\n",
        "\n",
        "        # Prepare the messages of the neighbours.\n",
        "        neighbour_messages = self.prepare(neighbour_repesentations, edge_weights)\n",
        "        # Aggregate the neighbour messages.\n",
        "        aggregated_messages = self.aggregate(node_indices, neighbour_messages)\n",
        "        # Update the node embedding with the neighbour messages.\n",
        "        return self.update(node_repesentations, aggregated_messages)\n"
      ],
      "metadata": {
        "id": "IRHa9xqQO6tj"
      },
      "execution_count": null,
      "outputs": []
    },
    {
      "cell_type": "code",
      "source": [
        "\n",
        "class GNNNodeClassifier(tf.keras.Model):\n",
        "    def __init__(\n",
        "        self,\n",
        "        graph_info,\n",
        "        num_classes,\n",
        "        hidden_units,\n",
        "        aggregation_type=\"sum\",\n",
        "        combination_type=\"concat\",\n",
        "        dropout_rate=0.2,\n",
        "        normalize=True,\n",
        "        *args,\n",
        "        **kwargs,\n",
        "    ):\n",
        "        super(GNNNodeClassifier, self).__init__(*args, **kwargs)\n",
        "\n",
        "        # Unpack graph_info to three elements: node_features, edges, and edge_weight.\n",
        "        node_features, edges, edge_weights = graph_info\n",
        "        self.node_features = node_features\n",
        "        self.edges = edges\n",
        "        self.edge_weights = edge_weights\n",
        "        # Set edge_weights to ones if not provided.\n",
        "        if self.edge_weights is None:\n",
        "            self.edge_weights = tf.ones(shape=edges.shape[1])\n",
        "        # Scale edge_weights to sum to 1.\n",
        "        self.edge_weights = self.edge_weights / tf.math.reduce_sum(self.edge_weights)\n",
        "\n",
        "        # Create a process layer.\n",
        "        self.preprocess = create_ffn(hidden_units, dropout_rate, name=\"preprocess\")\n",
        "        # Create the first GraphConv layer.\n",
        "        self.conv1 = GraphConvLayer(\n",
        "            hidden_units,\n",
        "            dropout_rate,\n",
        "            aggregation_type,\n",
        "            combination_type,\n",
        "            normalize,\n",
        "            name=\"graph_conv1\",\n",
        "        )\n",
        "        # Create the second GraphConv layer.\n",
        "        self.conv2 = GraphConvLayer(\n",
        "            hidden_units,\n",
        "            dropout_rate,\n",
        "            aggregation_type,\n",
        "            combination_type,\n",
        "            normalize,\n",
        "            name=\"graph_conv2\",\n",
        "        )\n",
        "        # Create a postprocess layer.\n",
        "        self.postprocess = create_ffn(hidden_units, dropout_rate, name=\"postprocess\")\n",
        "        # Create a compute logits layer.\n",
        "        self.compute_logits = layers.Dense(units=num_classes, name=\"logits\")\n",
        "\n",
        "    def call(self, input_node_indices):\n",
        "        # Preprocess the node_features to produce node representations.\n",
        "        x = self.preprocess(self.node_features)\n",
        "        # Apply the first graph conv layer.\n",
        "        x1 = self.conv1((x, self.edges, self.edge_weights))\n",
        "        # Skip connection.\n",
        "        x = x1 + x\n",
        "        # Apply the second graph conv layer.\n",
        "        x2 = self.conv2((x, self.edges, self.edge_weights))\n",
        "        # Skip connection.\n",
        "        x = x2 + x\n",
        "        # Postprocess node embedding.\n",
        "        x = self.postprocess(x)\n",
        "        # Fetch node embeddings for the input node_indices.\n",
        "        node_embeddings = tf.gather(x, input_node_indices)\n",
        "        # Compute logits\n",
        "        return self.compute_logits(node_embeddings)\n",
        "\n",
        "num_features = len(feature_names)\n",
        "num_classes = len(class_idc)\n",
        "hidden_units = [32, 32]\n",
        "learning_rate = 0.01\n",
        "dropout_rate = 0.5\n",
        "num_epochs = 10\n",
        "batch_size = 256\n",
        "\n",
        "def create_ffn(hidden_units, dropout_rate, name=None):\n",
        "    fnn_layers = []\n",
        "\n",
        "    for units in hidden_units:\n",
        "        fnn_layers.append(layers.BatchNormalization())\n",
        "        fnn_layers.append(layers.Dropout(dropout_rate))\n",
        "        fnn_layers.append(layers.Dense(units, activation=tf.nn.gelu))\n",
        "\n",
        "    return keras.Sequential(fnn_layers, name=name)\n",
        "\n",
        "gnn_model = GNNNodeClassifier(\n",
        "    graph_info=graph_info,\n",
        "    num_classes=num_classes,\n",
        "    hidden_units=hidden_units,\n",
        "    dropout_rate=dropout_rate,\n",
        "    name=\"gnn_model\",\n",
        ")\n",
        "\n",
        "\n",
        "from sklearn.model_selection import train_test_split\n",
        "train_data,test_data=train_test_split(papers_data)\n",
        "\n",
        "x_train = train_data[feature_names].to_numpy()\n",
        "x_test = test_data[feature_names].to_numpy()\n",
        "# Create train and test targets as a numpy array.\n",
        "y_train = train_data[\"subject\"]\n",
        "y_test = test_data[\"subject\"]"
      ],
      "metadata": {
        "id": "jspFmoIzUFpj"
      },
      "execution_count": null,
      "outputs": []
    },
    {
      "cell_type": "code",
      "source": [
        ""
      ],
      "metadata": {
        "id": "O7N5sjg3UIPL"
      },
      "execution_count": null,
      "outputs": []
    },
    {
      "cell_type": "markdown",
      "source": [
        "### GNN **Results**"
      ],
      "metadata": {
        "id": "s4QvnysDOoRU"
      }
    },
    {
      "cell_type": "code",
      "source": [
        "x_train = train_data.paper_id.to_numpy()\n",
        "def run_experiment(model, x_train, y_train):\n",
        "    # Compile the model.\n",
        "    model.compile(\n",
        "        optimizer=keras.optimizers.Adam(learning_rate),\n",
        "        loss=keras.losses.SparseCategoricalCrossentropy(from_logits=True),\n",
        "        metrics=[keras.metrics.SparseCategoricalAccuracy(name=\"acc\")],\n",
        "    )\n",
        "    # Create an early stopping callback.\n",
        "    early_stopping = keras.callbacks.EarlyStopping(\n",
        "        monitor=\"val_acc\", patience=50, restore_best_weights=True\n",
        "    )\n",
        "    # Fit the model.\n",
        "    history = model.fit(\n",
        "        x=x_train,\n",
        "        y=y_train,\n",
        "        epochs=num_epochs,\n",
        "        batch_size=batch_size,\n",
        "        validation_split=0.15,\n",
        "        callbacks=[early_stopping],\n",
        "    )\n",
        "\n",
        "    return history\n",
        "history = run_experiment(gnn_model, x_train, y_train)"
      ],
      "metadata": {
        "colab": {
          "base_uri": "https://localhost:8080/"
        },
        "id": "0KbEZ8WUU8D_",
        "outputId": "6c84694e-8aa8-45c7-eecc-c71d4eaaea0f"
      },
      "execution_count": null,
      "outputs": [
        {
          "output_type": "stream",
          "name": "stdout",
          "text": [
            "Epoch 1/10\n",
            "7/7 [==============================] - 6s 252ms/step - loss: 2.2521 - acc: 0.1512 - val_loss: 1.8911 - val_acc: 0.3115\n",
            "Epoch 2/10\n",
            "7/7 [==============================] - 1s 160ms/step - loss: 1.9391 - acc: 0.2694 - val_loss: 1.8617 - val_acc: 0.3115\n",
            "Epoch 3/10\n",
            "7/7 [==============================] - 1s 160ms/step - loss: 1.8999 - acc: 0.2793 - val_loss: 1.8458 - val_acc: 0.3115\n",
            "Epoch 4/10\n",
            "7/7 [==============================] - 1s 161ms/step - loss: 1.8667 - acc: 0.2839 - val_loss: 1.8477 - val_acc: 0.3115\n",
            "Epoch 5/10\n",
            "7/7 [==============================] - 1s 159ms/step - loss: 1.8438 - acc: 0.2920 - val_loss: 1.8395 - val_acc: 0.3115\n",
            "Epoch 6/10\n",
            "7/7 [==============================] - 1s 163ms/step - loss: 1.8328 - acc: 0.2955 - val_loss: 1.8311 - val_acc: 0.3115\n",
            "Epoch 7/10\n",
            "7/7 [==============================] - 1s 160ms/step - loss: 1.8199 - acc: 0.2995 - val_loss: 1.8211 - val_acc: 0.3148\n",
            "Epoch 8/10\n",
            "7/7 [==============================] - 1s 160ms/step - loss: 1.8025 - acc: 0.3048 - val_loss: 1.8113 - val_acc: 0.3246\n",
            "Epoch 9/10\n",
            "7/7 [==============================] - 1s 163ms/step - loss: 1.7895 - acc: 0.3163 - val_loss: 1.7868 - val_acc: 0.3607\n",
            "Epoch 10/10\n",
            "7/7 [==============================] - 1s 165ms/step - loss: 1.7539 - acc: 0.3273 - val_loss: 1.7491 - val_acc: 0.4230\n"
          ]
        }
      ]
    },
    {
      "cell_type": "code",
      "execution_count": null,
      "metadata": {
        "id": "CjGt-Cx0p2ei"
      },
      "outputs": [],
      "source": [
        "from sklearn.model_selection import train_test_split\n",
        "Train_data,Test_data=train_test_split(cocomo81_df)"
      ]
    },
    {
      "cell_type": "code",
      "execution_count": null,
      "metadata": {
        "id": "C6kZNqgNNh9p"
      },
      "outputs": [],
      "source": [
        "featur_names = set(cocomo81_df.columns) - {\"loc\", \"actual\"}\n",
        "X_train = Train_data[featur_names].to_numpy()\n",
        "X_test = Test_data[featur_names].to_numpy()\n",
        "# Create train and test targets as a numpy array.\n",
        "Y_train = Train_data[\"actual\"]\n",
        "Y_test = Test_data[\"loc\"]"
      ]
    },
    {
      "cell_type": "code",
      "source": [
        "print(evaluete_model(X_test,X_train))"
      ],
      "metadata": {
        "colab": {
          "base_uri": "https://localhost:8080/"
        },
        "id": "9t91OuUCRRmM",
        "outputId": "9b7ea9e9-e032-4be7-edcb-efc65af6e6d2"
      },
      "execution_count": null,
      "outputs": [
        {
          "output_type": "stream",
          "name": "stdout",
          "text": [
            "(0.782378654, 0.42539823, {0.25: 55.3, 0.3: 56.3, 0.5: 57.3})\n"
          ]
        }
      ]
    },
    {
      "cell_type": "markdown",
      "source": [
        "### Random Forest **Regressor**"
      ],
      "metadata": {
        "id": "6dIWxtU_WsID"
      }
    },
    {
      "cell_type": "code",
      "source": [
        "random_grid={'bootstrap': [True, False],\n",
        " 'max_depth': [10, 20, 30, 40, 50, 60, 70, 80, 90, 100, None],\n",
        " 'max_features': [1,2,3,4,5,6,7,8,9,10],\n",
        " 'min_samples_leaf': [1, 2, 4],\n",
        " 'min_samples_split': [2, 5, 10],\n",
        " 'n_estimators': [200, 400, 600, 800, 1000, 1200, 1400, 1600, 1800, 2000]}"
      ],
      "metadata": {
        "id": "YyxYjDrrg7_W"
      },
      "execution_count": null,
      "outputs": []
    },
    {
      "cell_type": "code",
      "source": [
        "cocomo81_url = 'http://promise.site.uottawa.ca/SERepository/datasets/cocomo81.arff'\n",
        "resp81 = urllib.request.urlopen(cocomo81_url)\n",
        "cocomo81_data, cocomo81_meta = loadarff(StringIO(resp81.read().decode('utf-8')))\n",
        "cocomo81 = pd.DataFrame(cocomo81_data)\n",
        "\n",
        "cocomo81_X = cocomo81.iloc[:, :-1]\n",
        "cocomo81_y = cocomo81.iloc[:, -1]\n",
        "ATrain, ATest, BTrain, BTest = train_test_split(\n",
        "    cocomo81_X, cocomo81_y, test_size=0.25, random_state=42)\n",
        "ATest.shape"
      ],
      "metadata": {
        "colab": {
          "base_uri": "https://localhost:8080/"
        },
        "id": "hXlvrO6sh1Mg",
        "outputId": "d02f2248-bc21-429c-a913-b8f4c1677629"
      },
      "execution_count": null,
      "outputs": [
        {
          "output_type": "execute_result",
          "data": {
            "text/plain": [
              "(16, 16)"
            ]
          },
          "metadata": {},
          "execution_count": 265
        }
      ]
    },
    {
      "cell_type": "code",
      "source": [
        "clf= RandomForestRegressor()\n",
        "random_grd_search=RandomizedSearchCV(estimator = clf, param_distributions = random_grid, n_iter = 10, cv = 10, random_state=42, n_jobs = -1)\n",
        "random_grd_search.fit(ATrain, BTrain)"
      ],
      "metadata": {
        "colab": {
          "base_uri": "https://localhost:8080/"
        },
        "id": "iUKrTagwhkuf",
        "outputId": "2a7cf2ca-82fc-4b0b-b211-ef2c3e593bca"
      },
      "execution_count": null,
      "outputs": [
        {
          "output_type": "execute_result",
          "data": {
            "text/plain": [
              "RandomizedSearchCV(cv=10, estimator=RandomForestRegressor(), n_jobs=-1,\n",
              "                   param_distributions={'bootstrap': [True, False],\n",
              "                                        'max_depth': [10, 20, 30, 40, 50, 60,\n",
              "                                                      70, 80, 90, 100, None],\n",
              "                                        'max_features': [1, 2, 3, 4, 5, 6, 7, 8,\n",
              "                                                         9, 10],\n",
              "                                        'min_samples_leaf': [1, 2, 4],\n",
              "                                        'min_samples_split': [2, 5, 10],\n",
              "                                        'n_estimators': [200, 400, 600, 800,\n",
              "                                                         1000, 1200, 1400, 1600,\n",
              "                                                         1800, 2000]},\n",
              "                   random_state=42)"
            ]
          },
          "metadata": {},
          "execution_count": 266
        }
      ]
    },
    {
      "cell_type": "code",
      "source": [
        "print(random_grd_search.best_score_)\n",
        "print(random_grd_search.best_params_)\n",
        "y_predict = random_grd_search.best_estimator_.predict(ATest)\n",
        "print(evaluate_model(BTest, y_predict))"
      ],
      "metadata": {
        "colab": {
          "base_uri": "https://localhost:8080/"
        },
        "id": "t-haUjFNiZym",
        "outputId": "90bd1da9-5f5f-4ffc-84b9-bf60ffeaab3b"
      },
      "execution_count": null,
      "outputs": [
        {
          "output_type": "stream",
          "name": "stdout",
          "text": [
            "-6.927451429331919\n",
            "{'n_estimators': 1200, 'min_samples_split': 5, 'min_samples_leaf': 2, 'max_features': 6, 'max_depth': 70, 'bootstrap': False}\n",
            "(3.8940208114720583, 2.18894002725035, {0.25: 6.25, 0.3: 12.5, 0.5: 18.75})\n"
          ]
        }
      ]
    },
    {
      "cell_type": "markdown",
      "source": [
        "### **SVR**"
      ],
      "metadata": {
        "id": "HCbQWzSWkjl0"
      }
    },
    {
      "cell_type": "code",
      "source": [
        "svr_params = {'kernel': ('linear','rbf','poly'), 'C':[1.5, 10],'gamma': [1e-7, 1e-4],'epsilon':[0.1,0.2,0.5,0.3]}"
      ],
      "metadata": {
        "id": "WllsxL-hkr1O"
      },
      "execution_count": null,
      "outputs": []
    },
    {
      "cell_type": "code",
      "source": [
        "svr= svm.SVR()\n",
        "svr_random_grd_search=RandomizedSearchCV(estimator = svr, param_distributions = svr_params, n_iter=48, cv = 10, random_state=42, n_jobs = -1)\n",
        "svr_random_grd_search.fit(ATrain, BTrain)"
      ],
      "metadata": {
        "colab": {
          "base_uri": "https://localhost:8080/"
        },
        "id": "fzRH80tYkx0i",
        "outputId": "c9f8c04a-d5e6-49ea-c277-1aced87796ae"
      },
      "execution_count": null,
      "outputs": [
        {
          "output_type": "execute_result",
          "data": {
            "text/plain": [
              "RandomizedSearchCV(cv=10, estimator=SVR(), n_iter=48, n_jobs=-1,\n",
              "                   param_distributions={'C': [1.5, 10],\n",
              "                                        'epsilon': [0.1, 0.2, 0.5, 0.3],\n",
              "                                        'gamma': [1e-07, 0.0001],\n",
              "                                        'kernel': ('linear', 'rbf', 'poly')},\n",
              "                   random_state=42)"
            ]
          },
          "metadata": {},
          "execution_count": 269
        }
      ]
    },
    {
      "cell_type": "code",
      "source": [
        "print(svr_random_grd_search.best_params_)\n",
        "svr_y_predict = svr_random_grd_search.best_estimator_.predict(ATest)\n",
        "print(evaluate_model(BTest, svr_y_predict))\n",
        "print(svr_random_grd_search.best_score_)"
      ],
      "metadata": {
        "colab": {
          "base_uri": "https://localhost:8080/"
        },
        "id": "O-ZUSHc4lrJ9",
        "outputId": "78900392-75d7-44ef-c4f4-17d537ad40ac"
      },
      "execution_count": null,
      "outputs": [
        {
          "output_type": "stream",
          "name": "stdout",
          "text": [
            "{'kernel': 'linear', 'gamma': 1e-07, 'epsilon': 0.5, 'C': 10}\n",
            "(1.2224320421097654, 0.6566375398144461, {0.25: 25.0, 0.3: 31.25, 0.5: 43.75})\n",
            "-0.02087098609338083\n"
          ]
        }
      ]
    },
    {
      "cell_type": "markdown",
      "source": [
        "### **Decision Tree Regressor**"
      ],
      "metadata": {
        "id": "HkZoFo46tMxW"
      }
    },
    {
      "cell_type": "code",
      "source": [
        "dtr_params={\"splitter\":[\"best\",\"random\"],\n",
        "            \"max_depth\" : [1,3,5,7,9,11,12],\n",
        "            \"min_samples_leaf\":[1,2,3,4,5,6,7,8,9,10],\n",
        "            \"min_weight_fraction_leaf\":[0.1,0.2,0.3,0.4,0.5],\n",
        "            \"max_features\":[\"auto\",\"log2\",\"sqrt\",None],\n",
        "            \"max_leaf_nodes\":[None,10,20,30,40,50,60,70,80,90] }"
      ],
      "metadata": {
        "id": "6Z-Xm3kItfLu"
      },
      "execution_count": null,
      "outputs": []
    },
    {
      "cell_type": "code",
      "source": [
        "dtr = DecisionTreeRegressor()\n",
        "dtr_random_grd_search=RandomizedSearchCV(estimator = dtr, param_distributions = dtr_params, n_iter=100, cv = 10, \n",
        "                              random_state=42, n_jobs = -1)\n",
        "dtr_random_grd_search.fit(ATrain, BTrain)"
      ],
      "metadata": {
        "colab": {
          "base_uri": "https://localhost:8080/"
        },
        "id": "okXeE-Nztroo",
        "outputId": "f5444224-b257-4076-8ed1-787182d2df6d"
      },
      "execution_count": null,
      "outputs": [
        {
          "output_type": "execute_result",
          "data": {
            "text/plain": [
              "RandomizedSearchCV(cv=10, estimator=DecisionTreeRegressor(), n_iter=100,\n",
              "                   n_jobs=-1,\n",
              "                   param_distributions={'max_depth': [1, 3, 5, 7, 9, 11, 12],\n",
              "                                        'max_features': ['auto', 'log2', 'sqrt',\n",
              "                                                         None],\n",
              "                                        'max_leaf_nodes': [None, 10, 20, 30, 40,\n",
              "                                                           50, 60, 70, 80, 90],\n",
              "                                        'min_samples_leaf': [1, 2, 3, 4, 5, 6,\n",
              "                                                             7, 8, 9, 10],\n",
              "                                        'min_weight_fraction_leaf': [0.1, 0.2,\n",
              "                                                                     0.3, 0.4,\n",
              "                                                                     0.5],\n",
              "                                        'splitter': ['best', 'random']},\n",
              "                   random_state=42)"
            ]
          },
          "metadata": {},
          "execution_count": 272
        }
      ]
    },
    {
      "cell_type": "code",
      "source": [
        "model = DecisionTreeRegressor()\n",
        "model.fit(ATrain, BTrain)\n",
        "predict = model.predict(ATest)\n",
        "print(evaluate_model(BTest, predict))"
      ],
      "metadata": {
        "colab": {
          "base_uri": "https://localhost:8080/"
        },
        "id": "AMO4-kH9t4kM",
        "outputId": "a70052a3-7f8a-4904-a215-68a2bec05e43"
      },
      "execution_count": null,
      "outputs": [
        {
          "output_type": "stream",
          "name": "stdout",
          "text": [
            "(1.3334622760092598, 0.6145699614890885, {0.25: 12.5, 0.3: 12.5, 0.5: 37.5})\n"
          ]
        }
      ]
    },
    {
      "cell_type": "markdown",
      "source": [
        "### **AdaBoostRegressor**"
      ],
      "metadata": {
        "id": "KhaJzuwPuls-"
      }
    },
    {
      "cell_type": "code",
      "source": [
        "abr_params = {'n_estimators': [50, 100, 200],\n",
        "              'learning_rate' : [0.01,0.05,0.1,0.3,1],\n",
        "              'loss' : ['linear', 'square', 'exponential'],\n",
        "              'random_state': [0,1]\n",
        "             }"
      ],
      "metadata": {
        "id": "Rnwbj028uzhc"
      },
      "execution_count": null,
      "outputs": []
    },
    {
      "cell_type": "code",
      "source": [
        "abr = AdaBoostRegressor()\n",
        "abr_random_grd_search=RandomizedSearchCV(estimator = abr, param_distributions = abr_params, n_iter=90, cv = 10, \n",
        "                              random_state=42, n_jobs = -1)\n",
        "abr_random_grd_search.fit(ATrain, BTrain)"
      ],
      "metadata": {
        "colab": {
          "base_uri": "https://localhost:8080/"
        },
        "id": "aUGPLkBjusKX",
        "outputId": "9e9e508d-fa6c-4b53-9a7a-25ebc2c0d265"
      },
      "execution_count": null,
      "outputs": [
        {
          "output_type": "execute_result",
          "data": {
            "text/plain": [
              "RandomizedSearchCV(cv=10, estimator=AdaBoostRegressor(), n_iter=90, n_jobs=-1,\n",
              "                   param_distributions={'learning_rate': [0.01, 0.05, 0.1, 0.3,\n",
              "                                                          1],\n",
              "                                        'loss': ['linear', 'square',\n",
              "                                                 'exponential'],\n",
              "                                        'n_estimators': [50, 100, 200],\n",
              "                                        'random_state': [0, 1]},\n",
              "                   random_state=42)"
            ]
          },
          "metadata": {},
          "execution_count": 275
        }
      ]
    },
    {
      "cell_type": "code",
      "source": [
        "print(abr_random_grd_search.best_params_)\n",
        "abr_y_predict = abr_random_grd_search.best_estimator_.predict(ATest)\n",
        "print(abr_random_grd_search.best_score_)\n",
        "print(evaluate_model(BTest, abr_y_predict))"
      ],
      "metadata": {
        "colab": {
          "base_uri": "https://localhost:8080/"
        },
        "id": "HkU-6XrrvH3d",
        "outputId": "0c6d64b7-bf39-4326-9920-49a3f0428aa7"
      },
      "execution_count": null,
      "outputs": [
        {
          "output_type": "stream",
          "name": "stdout",
          "text": [
            "{'random_state': 1, 'n_estimators': 100, 'loss': 'square', 'learning_rate': 0.01}\n",
            "-1.3934167530573667\n",
            "(2.7383416295016723, 0.9562568344645551, {0.25: 12.5, 0.3: 12.5, 0.5: 12.5})\n"
          ]
        }
      ]
    },
    {
      "cell_type": "markdown",
      "source": [
        "### **Ridge**"
      ],
      "metadata": {
        "id": "SR-0b0SGvUvI"
      }
    },
    {
      "cell_type": "code",
      "source": [
        "rr_params = {'alpha':[200, 230, 250,265, 270, 275, 290, 300, 500]}"
      ],
      "metadata": {
        "id": "lIuCDgCXvY-T"
      },
      "execution_count": null,
      "outputs": []
    },
    {
      "cell_type": "code",
      "source": [
        "rr = Ridge()\n",
        "rr_random_grd_search=RandomizedSearchCV(estimator = rr, param_distributions = rr_params, n_iter=9, cv = 10, \n",
        "                           random_state=42, n_jobs = -1)\n",
        "rr_random_grd_search.fit(ATrain, BTrain)"
      ],
      "metadata": {
        "colab": {
          "base_uri": "https://localhost:8080/"
        },
        "id": "Fp5iE7unvfEg",
        "outputId": "0cdb9353-e969-4396-b86d-1f664b9e6fa2"
      },
      "execution_count": null,
      "outputs": [
        {
          "output_type": "execute_result",
          "data": {
            "text/plain": [
              "RandomizedSearchCV(cv=10, estimator=Ridge(), n_iter=9, n_jobs=-1,\n",
              "                   param_distributions={'alpha': [200, 230, 250, 265, 270, 275,\n",
              "                                                  290, 300, 500]},\n",
              "                   random_state=42)"
            ]
          },
          "metadata": {},
          "execution_count": 278
        }
      ]
    },
    {
      "cell_type": "code",
      "source": [
        "print(rr_random_grd_search.best_params_)\n",
        "rr_y_predict = rr_random_grd_search.best_estimator_.predict(ATest)\n",
        "print(evaluate_model(BTest, rr_y_predict))\n",
        "rr_random_grd_search.best_estimator_.score(ATest, BTest)"
      ],
      "metadata": {
        "colab": {
          "base_uri": "https://localhost:8080/"
        },
        "id": "uEklKkMnviMl",
        "outputId": "6979cef1-fc2f-428f-bf8c-868c533b5861"
      },
      "execution_count": null,
      "outputs": [
        {
          "output_type": "stream",
          "name": "stdout",
          "text": [
            "{'alpha': 200}\n",
            "(5.752009352326873, 2.8161613161074257, {0.25: 6.25, 0.3: 12.5, 0.5: 12.5})\n"
          ]
        },
        {
          "output_type": "execute_result",
          "data": {
            "text/plain": [
              "0.43840315313772715"
            ]
          },
          "metadata": {},
          "execution_count": 279
        }
      ]
    },
    {
      "cell_type": "markdown",
      "source": [
        "### **Lasso**"
      ],
      "metadata": {
        "id": "xU_-wGlKvoxI"
      }
    },
    {
      "cell_type": "code",
      "source": [
        "lasso_params = {'alpha':[0.02, 0.024, 0.025, 0.026, 0.03]}"
      ],
      "metadata": {
        "id": "deJM7wTuvu2m"
      },
      "execution_count": null,
      "outputs": []
    },
    {
      "cell_type": "code",
      "source": [
        "lasso = Lasso()\n",
        "lasso_random_grd_search=RandomizedSearchCV(estimator = lasso, param_distributions = lasso_params, n_iter=5, cv = 10, \n",
        "                             random_state=42, n_jobs = -1)\n",
        "lasso_random_grd_search.fit(ATrain, BTrain)"
      ],
      "metadata": {
        "colab": {
          "base_uri": "https://localhost:8080/"
        },
        "id": "SFK00m06wK2c",
        "outputId": "9e04e06b-b85e-4834-9828-5525adac9d72"
      },
      "execution_count": null,
      "outputs": [
        {
          "output_type": "execute_result",
          "data": {
            "text/plain": [
              "RandomizedSearchCV(cv=10, estimator=Lasso(), n_iter=5, n_jobs=-1,\n",
              "                   param_distributions={'alpha': [0.02, 0.024, 0.025, 0.026,\n",
              "                                                  0.03]},\n",
              "                   random_state=42)"
            ]
          },
          "metadata": {},
          "execution_count": 281
        }
      ]
    },
    {
      "cell_type": "code",
      "source": [
        "print(lasso_random_grd_search.best_params_)\n",
        "lasso_y_predict = lasso_random_grd_search.best_estimator_.predict(ATest)\n",
        "print(evaluate_model(BTest, lasso_y_predict))\n",
        "print(lasso_random_grd_search.best_score_)"
      ],
      "metadata": {
        "colab": {
          "base_uri": "https://localhost:8080/"
        },
        "id": "tkzp-8eIwQmU",
        "outputId": "b0f8b56e-882e-4488-892b-29ff3cd7f919"
      },
      "execution_count": null,
      "outputs": [
        {
          "output_type": "stream",
          "name": "stdout",
          "text": [
            "{'alpha': 0.03}\n",
            "(44.50489631074747, 19.068289800604422, {0.25: 12.5, 0.3: 12.5, 0.5: 12.5})\n",
            "-130.5167934277823\n"
          ]
        }
      ]
    },
    {
      "cell_type": "markdown",
      "source": [
        "### **Visualization**"
      ],
      "metadata": {
        "id": "L2cJCoEjwb9Q"
      }
    },
    {
      "cell_type": "code",
      "source": [
        "import matplotlib.pyplot as plt\n",
        "import numpy as np\n",
        "plt.figure(figsize=(10, 10))\n",
        "x = [.25, .3, .5]\n",
        "plt.plot(x, [55.3, 56.3, 57.3])\n",
        "plt.plot(x, [6.25,12.25,18.75])\n",
        "plt.plot(x, [25.0,31.25,43.75])\n",
        "plt.plot(x, [12.5, 12.5, 37.5])\n",
        "plt.plot(x, [12.5, 12.5, 12.5])\n",
        "plt.plot(x, [6.25, 12.5, 12.5])\n",
        "plt.plot(x, [12.5, 12.5, 12.5])\n",
        "\n",
        "plt.legend(['GNN', 'random forest', 'svr', 'decision tree', 'ada', 'ridge', 'lasso'], loc='upper right')\n",
        "\n",
        "plt.show()"
      ],
      "metadata": {
        "colab": {
          "base_uri": "https://localhost:8080/",
          "height": 592
        },
        "id": "U8r_GkIlwgzS",
        "outputId": "f4138d49-753d-43c6-d01a-aacb88c60cb4"
      },
      "execution_count": null,
      "outputs": [
        {
          "output_type": "display_data",
          "data": {
            "text/plain": [
              "<Figure size 720x720 with 1 Axes>"
            ],
            "image/png": "[encoded data removed]"
          },
          "metadata": {
            "needs_background": "light"
          }
        }
      ]
    }
  ]
}